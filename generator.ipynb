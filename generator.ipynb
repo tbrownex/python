{
 "cells": [
  {
   "cell_type": "code",
   "execution_count": 1,
   "metadata": {},
   "outputs": [],
   "source": [
    "import numpy as np\n",
    "import tensorflow as tf"
   ]
  },
  {
   "cell_type": "code",
   "execution_count": 3,
   "metadata": {},
   "outputs": [],
   "source": [
    "data = np.array(range(20))"
   ]
  },
  {
   "cell_type": "code",
   "execution_count": 6,
   "metadata": {},
   "outputs": [],
   "source": [
    "def getBatch(data):\n",
    "    epochs = 2\n",
    "    loop = 0\n",
    "    while loop < epochs:\n",
    "        loop+=1\n",
    "        print(\"epoch: \", loop)\n",
    "        startIdx = -1\n",
    "        while startIdx<len(data)-5:\n",
    "            startIdx+=1\n",
    "            print(startIdx)\n",
    "            yield data[startIdx:startIdx+5]"
   ]
  },
  {
   "cell_type": "code",
   "execution_count": 7,
   "metadata": {},
   "outputs": [
    {
     "name": "stdout",
     "output_type": "stream",
     "text": [
      "epoch:  1\n",
      "0\n",
      "[0 1 2 3 4]\n",
      "1\n",
      "[1 2 3 4 5]\n",
      "2\n",
      "[2 3 4 5 6]\n",
      "3\n",
      "[3 4 5 6 7]\n",
      "4\n",
      "[4 5 6 7 8]\n",
      "5\n",
      "[5 6 7 8 9]\n",
      "6\n",
      "[ 6  7  8  9 10]\n",
      "7\n",
      "[ 7  8  9 10 11]\n",
      "8\n",
      "[ 8  9 10 11 12]\n",
      "9\n",
      "[ 9 10 11 12 13]\n",
      "10\n",
      "[10 11 12 13 14]\n",
      "11\n",
      "[11 12 13 14 15]\n",
      "12\n",
      "[12 13 14 15 16]\n",
      "13\n",
      "[13 14 15 16 17]\n",
      "14\n",
      "[14 15 16 17 18]\n",
      "15\n",
      "[15 16 17 18 19]\n",
      "epoch:  2\n",
      "0\n",
      "[0 1 2 3 4]\n",
      "1\n",
      "[1 2 3 4 5]\n",
      "2\n",
      "[2 3 4 5 6]\n",
      "3\n",
      "[3 4 5 6 7]\n",
      "4\n",
      "[4 5 6 7 8]\n",
      "5\n",
      "[5 6 7 8 9]\n",
      "6\n",
      "[ 6  7  8  9 10]\n",
      "7\n",
      "[ 7  8  9 10 11]\n",
      "8\n",
      "[ 8  9 10 11 12]\n",
      "9\n",
      "[ 9 10 11 12 13]\n",
      "10\n",
      "[10 11 12 13 14]\n",
      "11\n",
      "[11 12 13 14 15]\n",
      "12\n",
      "[12 13 14 15 16]\n",
      "13\n",
      "[13 14 15 16 17]\n",
      "14\n",
      "[14 15 16 17 18]\n",
      "15\n",
      "[15 16 17 18 19]\n"
     ]
    }
   ],
   "source": [
    "for batch in getBatch(data):\n",
    "    print(batch)"
   ]
  },
  {
   "cell_type": "code",
   "execution_count": null,
   "metadata": {},
   "outputs": [],
   "source": []
  }
 ],
 "metadata": {
  "kernelspec": {
   "display_name": "Python 3",
   "language": "python",
   "name": "python3"
  },
  "language_info": {
   "codemirror_mode": {
    "name": "ipython",
    "version": 3
   },
   "file_extension": ".py",
   "mimetype": "text/x-python",
   "name": "python",
   "nbconvert_exporter": "python",
   "pygments_lexer": "ipython3",
   "version": "3.6.12"
  }
 },
 "nbformat": 4,
 "nbformat_minor": 4
}
